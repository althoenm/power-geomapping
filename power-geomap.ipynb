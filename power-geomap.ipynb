{
 "cells": [
  {
   "cell_type": "markdown",
   "metadata": {},
   "source": [
    "# Power SE Michigan Project Map\n",
    "\n",
    "This notebook has been designed to render Power project data into a geomap. Active projects will be rendered as markers on an interactive map with a focus on the SE Michigan area. The map will be saved to an HTML file to be opened in browser of choice. \n",
    "\n",
    "So long as column names and data formats stay conistent, this notebook can be run on as needed with new input files. "
   ]
  },
  {
   "cell_type": "markdown",
   "metadata": {},
   "source": [
    "### Install dependencies\n"
   ]
  },
  {
   "cell_type": "code",
   "execution_count": null,
   "metadata": {},
   "outputs": [],
   "source": [
    "! pip3 install --user -r requirements.txt"
   ]
  },
  {
   "cell_type": "markdown",
   "metadata": {},
   "source": [
    "### Import Libraries\n"
   ]
  },
  {
   "cell_type": "code",
   "execution_count": null,
   "metadata": {},
   "outputs": [],
   "source": [
    "from distutils.log import error\n",
    "from multiprocessing.context import _default_context\n",
    "import os\n",
    "import pandas as pd\n",
    "from geopy.geocoders import Nominatim\n",
    "import folium\n",
    "from branca.element import Figure"
   ]
  },
  {
   "cell_type": "markdown",
   "metadata": {},
   "source": [
    "### Read in data\n",
    "If using a new file, update the file name in the cell below. "
   ]
  },
  {
   "cell_type": "code",
   "execution_count": null,
   "metadata": {},
   "outputs": [],
   "source": [
    "file_dir = os.path.join(os.getcwd(), \"../files/Untitled 18.csv\")\n",
    "\n",
    "df = pd.read_csv(file_dir)"
   ]
  },
  {
   "cell_type": "markdown",
   "metadata": {},
   "source": [
    "### Clean Data\n",
    "Remove whitespace, newlines, and `DET` from end of addresses"
   ]
  },
  {
   "cell_type": "code",
   "execution_count": null,
   "metadata": {},
   "outputs": [],
   "source": [
    "df = df.replace({r'\\s+$': '', r'^\\s+': ''}, regex=True).replace(r'\\n',  ' ', regex=True).replace(r'\\bDET\\b', '', regex=True)"
   ]
  },
  {
   "cell_type": "markdown",
   "metadata": {},
   "source": [
    "### Create map\n",
    "Generate Folium map with coordinates of addresses pulled down from imput file. Markers will be labeled by project number and display additional data such as `Date`, `Owner`, `Home`, `Product`, `Rep`, and `Price` when selected. "
   ]
  },
  {
   "cell_type": "code",
   "execution_count": null,
   "metadata": {},
   "outputs": [],
   "source": [
    "fig = Figure(width=550, height=400)\n",
    "map = folium.Map(location=[42.3314, -83.0458], zoom_start=10)\n",
    "fig.add_child(map)\n",
    "\n",
    "folium.TileLayer('Stamen Terrain').add_to(map)\n",
    "folium.TileLayer('Stamen Toner').add_to(map)\n",
    "folium.TileLayer('Stamen Water Color').add_to(map)\n",
    "folium.TileLayer('cartodbpositron').add_to(map)\n",
    "folium.TileLayer('cartodbdark_matter').add_to(map)\n",
    "folium.LayerControl().add_to(map)\n",
    "\n",
    "geolocater = Nominatim(user_agent=\"tutorial\")\n",
    "for index, row in df.iterrows():\n",
    "    try:\n",
    "        location = geolocater.geocode(row[\"Home\"])\n",
    "        if location.latitude is not None:\n",
    "            folium.Marker(\n",
    "                location=[location.latitude, location.longitude],\n",
    "                popup=f\"\"\"\n",
    "                <table>\n",
    "                    <tr>\n",
    "                        <th>Date</th>\n",
    "                        <th>Owner</th>\n",
    "                        <th>Home</th>\n",
    "                        <th>Product</th>\n",
    "                        <th>Rep</th>\n",
    "                        <th>Price</th>\n",
    "                    </tr>\n",
    "                    <tr>\n",
    "                        <td>{row[\"Date\"]}</td>\n",
    "                        <td>{row[\"Owner\"]}</td>\n",
    "                        <td>{row[\"Home\"]}</td>\n",
    "                        <td> {row[\"Product\"]}</td>\n",
    "                        <td>{row[\"Rep\"]}</td>\n",
    "                        <td>{row[\"Price\"]}</td>\n",
    "                    </tr>\n",
    "                </table>\n",
    "                \"\"\",\n",
    "                tooltip=f'Project # {row[\"Project #\"]}'\n",
    "            ).add_to(map)\n",
    "    except:\n",
    "        pass\n",
    "        \n",
    "map"
   ]
  },
  {
   "cell_type": "markdown",
   "metadata": {},
   "source": [
    "### Save the map\n",
    "\n",
    "The map will be saved as an html file which can then be opened in a browser. The filename can be updated in this cell for any future versions of the map you wish to create"
   ]
  },
  {
   "cell_type": "code",
   "execution_count": null,
   "metadata": {},
   "outputs": [],
   "source": [
    "map.save('power-SE-MI.html')"
   ]
  }
 ],
 "metadata": {
  "interpreter": {
   "hash": "eb3c27f96442f494399159551b5d8b004b3d52eb1f9901776fa35088ed295365"
  },
  "kernelspec": {
   "display_name": "Python 3.8.9 ('power': venv)",
   "language": "python",
   "name": "python3"
  },
  "language_info": {
   "codemirror_mode": {
    "name": "ipython",
    "version": 3
   },
   "file_extension": ".py",
   "mimetype": "text/x-python",
   "name": "python",
   "nbconvert_exporter": "python",
   "pygments_lexer": "ipython3",
   "version": "3.8.9"
  },
  "orig_nbformat": 4
 },
 "nbformat": 4,
 "nbformat_minor": 2
}
